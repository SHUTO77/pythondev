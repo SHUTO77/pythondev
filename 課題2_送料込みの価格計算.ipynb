{
 "cells": [
  {
   "cell_type": "code",
   "execution_count": 2,
   "id": "430c0a21",
   "metadata": {},
   "outputs": [
    {
     "name": "stdout",
     "output_type": "stream",
     "text": [
      "送料として350円かかります\n",
      "送料込みの価格は2330円です。\n"
     ]
    }
   ],
   "source": [
    "from decimal import Decimal, ROUND_HALF_UP\n",
    "\n",
    "# 入力を受け取る\n",
    "raw = input(\"税抜価格を入力してください：\")\n",
    "price_ex = Decimal(raw)\n",
    "\n",
    "# 税込価格（四捨五入）\n",
    "price_incl = (price_ex * Decimal(\"1.10\")).quantize(Decimal(\"1\"), rounding=ROUND_HALF_UP)\n",
    "\n",
    "# 判定\n",
    "if price_incl >= 2000:\n",
    "    print(\"送料は無料です\")\n",
    "    total = price_incl\n",
    "else:\n",
    "    print(\"送料として350円かかります\")\n",
    "    total = price_incl + Decimal(\"350\")\n",
    "\n",
    "print(f\"送料込みの価格は{int(total)}円です。\")\n"
   ]
  },
  {
   "cell_type": "code",
   "execution_count": null,
   "id": "36d21010",
   "metadata": {},
   "outputs": [],
   "source": []
  },
  {
   "cell_type": "code",
   "execution_count": null,
   "id": "770cfecd",
   "metadata": {},
   "outputs": [],
   "source": []
  }
 ],
 "metadata": {
  "kernelspec": {
   "display_name": ".venv",
   "language": "python",
   "name": "python3"
  },
  "language_info": {
   "codemirror_mode": {
    "name": "ipython",
    "version": 3
   },
   "file_extension": ".py",
   "mimetype": "text/x-python",
   "name": "python",
   "nbconvert_exporter": "python",
   "pygments_lexer": "ipython3",
   "version": "3.12.10"
  }
 },
 "nbformat": 4,
 "nbformat_minor": 5
}
