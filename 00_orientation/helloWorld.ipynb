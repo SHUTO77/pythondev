{
 "cells": [
  {
   "cell_type": "code",
   "execution_count": null,
   "id": "677b5ee4",
   "metadata": {},
   "outputs": [],
   "source": [
    "print(\"hello! World!\")"
   ]
  }
 ],
 "metadata": {
  "kernelspec": {
   "display_name": ".venv",
   "language": "python",
   "name": "python3"
  },
  "language_info": {
   "name": "python",
   "version": "3.12.10"
  }
 },
 "nbformat": 4,
 "nbformat_minor": 5
}
