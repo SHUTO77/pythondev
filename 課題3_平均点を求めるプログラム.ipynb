{
 "cells": [
  {
   "cell_type": "code",
   "execution_count": 2,
   "id": "e2e4747f",
   "metadata": {},
   "outputs": [
    {
     "name": "stdout",
     "output_type": "stream",
     "text": [
      "9人のテストの平均点は1170.6点です\n"
     ]
    }
   ],
   "source": [
    "from decimal import Decimal, ROUND_HALF_UP\n",
    "\n",
    "total = Decimal('0')\n",
    "count = 0\n",
    "\n",
    "while True:\n",
    "    score = int(input(\"点数を入力してください：\"))\n",
    "    if score == -1:\n",
    "        break\n",
    "    total += Decimal(score)\n",
    "    count += 1\n",
    "\n",
    "avg = (total / Decimal(count)).quantize(Decimal('0.1'), rounding=ROUND_HALF_UP)\n",
    "print(f\"{count}人のテストの平均点は{avg}点です\")\n"
   ]
  }
 ],
 "metadata": {
  "kernelspec": {
   "display_name": ".venv",
   "language": "python",
   "name": "python3"
  },
  "language_info": {
   "codemirror_mode": {
    "name": "ipython",
    "version": 3
   },
   "file_extension": ".py",
   "mimetype": "text/x-python",
   "name": "python",
   "nbconvert_exporter": "python",
   "pygments_lexer": "ipython3",
   "version": "3.12.10"
  }
 },
 "nbformat": 4,
 "nbformat_minor": 5
}
